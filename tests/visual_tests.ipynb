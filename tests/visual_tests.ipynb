{
 "cells": [
  {
   "cell_type": "code",
   "execution_count": 1,
   "metadata": {
    "ExecuteTime": {
     "end_time": "2021-11-26T15:01:41.221601Z",
     "start_time": "2021-11-26T15:01:40.321113Z"
    }
   },
   "outputs": [
    {
     "ename": "ModuleNotFoundError",
     "evalue": "No module named 'autocrop'",
     "output_type": "error",
     "traceback": [
      "\u001b[0;31m---------------------------------------------------------------------------\u001b[0m",
      "\u001b[0;31mModuleNotFoundError\u001b[0m                       Traceback (most recent call last)",
      "\u001b[0;32m/var/folders/m_/yy7mys3n3c11ck_094dwchjc0000gn/T/ipykernel_92145/1408010098.py\u001b[0m in \u001b[0;36m<module>\u001b[0;34m\u001b[0m\n\u001b[1;32m     11\u001b[0m \u001b[0msys\u001b[0m\u001b[0;34m.\u001b[0m\u001b[0mpath\u001b[0m\u001b[0;34m.\u001b[0m\u001b[0minsert\u001b[0m\u001b[0;34m(\u001b[0m\u001b[0;36m0\u001b[0m\u001b[0;34m,\u001b[0m\u001b[0mhere\u001b[0m\u001b[0;34m.\u001b[0m\u001b[0mparent\u001b[0m\u001b[0;34m)\u001b[0m\u001b[0;34m\u001b[0m\u001b[0;34m\u001b[0m\u001b[0m\n\u001b[1;32m     12\u001b[0m \u001b[0;34m\u001b[0m\u001b[0m\n\u001b[0;32m---> 13\u001b[0;31m \u001b[0;32mfrom\u001b[0m \u001b[0mautocrop\u001b[0m \u001b[0;32mimport\u001b[0m \u001b[0mCropper\u001b[0m\u001b[0;34m\u001b[0m\u001b[0;34m\u001b[0m\u001b[0m\n\u001b[0m\u001b[1;32m     14\u001b[0m \u001b[0;34m\u001b[0m\u001b[0m\n\u001b[1;32m     15\u001b[0m \u001b[0mloc\u001b[0m \u001b[0;34m=\u001b[0m \u001b[0;34m'data/macbeth.jpg'\u001b[0m\u001b[0;34m\u001b[0m\u001b[0;34m\u001b[0m\u001b[0m\n",
      "\u001b[0;31mModuleNotFoundError\u001b[0m: No module named 'autocrop'"
     ]
    }
   ],
   "source": [
    "%matplotlib inline\n",
    "import sys\n",
    "import inspect\n",
    "import matplotlib.pyplot as plt\n",
    "import PIL\n",
    "from pathlib import Path\n",
    "\n",
    "here = !pwd\n",
    "here = Path(here[0])\n",
    "\n",
    "sys.path.insert(0,here.parent) \n",
    "\n",
    "from autocrop import Cropper\n",
    "\n",
    "loc = 'data/macbeth.jpg'\n",
    "c = Cropper()"
   ]
  },
  {
   "cell_type": "code",
   "execution_count": null,
   "metadata": {
    "ExecuteTime": {
     "end_time": "2021-11-26T15:01:05.477351Z",
     "start_time": "2021-11-26T15:01:05.402278Z"
    }
   },
   "outputs": [],
   "source": []
  },
  {
   "cell_type": "code",
   "execution_count": null,
   "metadata": {
    "ExecuteTime": {
     "end_time": "2021-11-26T15:01:41.223755Z",
     "start_time": "2021-11-26T15:01:41.223741Z"
    }
   },
   "outputs": [],
   "source": [
    "img_array = c.crop(loc)\n",
    "PIL.Image.fromarray(img_array)"
   ]
  },
  {
   "cell_type": "code",
   "execution_count": null,
   "metadata": {
    "ExecuteTime": {
     "end_time": "2021-11-26T15:01:41.224884Z",
     "start_time": "2021-11-26T15:01:41.224830Z"
    }
   },
   "outputs": [],
   "source": [
    "c = Cropper()\n",
    "img_array = c.crop(loc)\n",
    "plt.imshow(img_array)\n",
    "plt.show()"
   ]
  },
  {
   "cell_type": "code",
   "execution_count": null,
   "metadata": {
    "ExecuteTime": {
     "end_time": "2021-11-26T15:01:41.226318Z",
     "start_time": "2021-11-26T15:01:41.226306Z"
    },
    "scrolled": false
   },
   "outputs": [],
   "source": [
    "%%timeit\n",
    "# 32ms on 2016 i7 5-series, 148ms on 10 yo MBP\n",
    "img_array = c.crop(loc)"
   ]
  },
  {
   "cell_type": "code",
   "execution_count": null,
   "metadata": {
    "ExecuteTime": {
     "end_time": "2021-11-26T15:01:41.227207Z",
     "start_time": "2021-11-26T15:01:41.227196Z"
    }
   },
   "outputs": [],
   "source": [
    "c = Cropper(face_percent=100)\n",
    "plt.imshow(c.crop(loc))"
   ]
  },
  {
   "cell_type": "code",
   "execution_count": null,
   "metadata": {
    "ExecuteTime": {
     "end_time": "2021-11-26T15:01:41.228930Z",
     "start_time": "2021-11-26T15:01:41.228913Z"
    }
   },
   "outputs": [],
   "source": [
    "c = Cropper(height=700)\n",
    "plt.imshow(c.crop(loc))"
   ]
  },
  {
   "cell_type": "code",
   "execution_count": null,
   "metadata": {
    "ExecuteTime": {
     "end_time": "2021-11-26T15:01:41.230248Z",
     "start_time": "2021-11-26T15:01:41.230233Z"
    }
   },
   "outputs": [],
   "source": [
    "noise = 'data/noise.png'\n",
    "assert c.crop(noise) is None"
   ]
  },
  {
   "cell_type": "code",
   "execution_count": null,
   "metadata": {
    "ExecuteTime": {
     "end_time": "2021-11-26T15:01:41.231157Z",
     "start_time": "2021-11-26T15:01:41.231146Z"
    }
   },
   "outputs": [],
   "source": [
    "from glob import glob\n",
    "faces = [f for f in glob('data/*') if not f.endswith('md')]"
   ]
  },
  {
   "cell_type": "code",
   "execution_count": null,
   "metadata": {
    "ExecuteTime": {
     "end_time": "2021-11-26T15:01:41.231997Z",
     "start_time": "2021-11-26T15:01:41.231987Z"
    }
   },
   "outputs": [],
   "source": [
    "print(img_array)"
   ]
  },
  {
   "cell_type": "code",
   "execution_count": null,
   "metadata": {
    "ExecuteTime": {
     "end_time": "2021-11-26T15:01:41.233066Z",
     "start_time": "2021-11-26T15:01:41.233054Z"
    },
    "scrolled": false
   },
   "outputs": [],
   "source": [
    "def plot_test_images(faces, cropper):\n",
    "    \"\"\"Given a list on filepaths, crops and plots them.\"\"\"\n",
    "    for face in faces:\n",
    "        try:\n",
    "            img_array = c.crop(face)\n",
    "        except (AttributeError, TypeError):\n",
    "            pass\n",
    "        if img_array is not None:\n",
    "            plt.imshow(img_array)\n",
    "            plt.show()\n",
    "\n",
    "            \n",
    "c = Cropper(width=650, height=500, face_percent=40)\n",
    "plot_test_images(faces, c)"
   ]
  },
  {
   "cell_type": "code",
   "execution_count": null,
   "metadata": {
    "ExecuteTime": {
     "end_time": "2021-11-26T15:01:41.234018Z",
     "start_time": "2021-11-26T15:01:41.234007Z"
    },
    "scrolled": false
   },
   "outputs": [],
   "source": [
    "c = Cropper(height=650, width=500, face_percent=40)\n",
    "plot_test_images(faces, c)"
   ]
  },
  {
   "cell_type": "markdown",
   "metadata": {},
   "source": [
    "## `_crop_postions`"
   ]
  },
  {
   "cell_type": "code",
   "execution_count": null,
   "metadata": {
    "ExecuteTime": {
     "end_time": "2021-11-26T15:01:41.234976Z",
     "start_time": "2021-11-26T15:01:41.234965Z"
    }
   },
   "outputs": [],
   "source": [
    "c = Cropper()\n",
    "crop_positions = c._crop_positions\n",
    "print(help(crop_positions))\n",
    "crop_positions(500, 500, 50, 50, 100, 100)"
   ]
  },
  {
   "cell_type": "code",
   "execution_count": null,
   "metadata": {
    "ExecuteTime": {
     "end_time": "2021-11-26T15:01:41.236326Z",
     "start_time": "2021-11-26T15:01:41.236308Z"
    }
   },
   "outputs": [],
   "source": [
    "faces"
   ]
  },
  {
   "cell_type": "code",
   "execution_count": null,
   "metadata": {},
   "outputs": [],
   "source": []
  }
 ],
 "metadata": {
  "kernelspec": {
   "display_name": "Python 3 (ipykernel)",
   "language": "python",
   "name": "python3"
  },
  "language_info": {
   "codemirror_mode": {
    "name": "ipython",
    "version": 3
   },
   "file_extension": ".py",
   "mimetype": "text/x-python",
   "name": "python",
   "nbconvert_exporter": "python",
   "pygments_lexer": "ipython3",
   "version": "3.8.0"
  }
 },
 "nbformat": 4,
 "nbformat_minor": 2
}
